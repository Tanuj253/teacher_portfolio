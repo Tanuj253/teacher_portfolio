{
 "cells": [
  {
   "cell_type": "markdown",
   "metadata": {},
   "source": [
    "# Crowd Sources\n",
    "\n",
    "## Popcorn Hack 1\n",
    "A public data set is data that is readily available to the public and ready for other people to add onto.\n",
    "\n",
    "## Popcorn Hack 2\n",
    "It is a meathod of making multiple computers work together to solve a common problems."
   ]
  }
 ],
 "metadata": {
  "language_info": {
   "name": "python"
  }
 },
 "nbformat": 4,
 "nbformat_minor": 2
}
