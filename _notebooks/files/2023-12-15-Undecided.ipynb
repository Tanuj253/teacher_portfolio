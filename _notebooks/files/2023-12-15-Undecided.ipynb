{
 "cells": [
  {
   "cell_type": "markdown",
   "metadata": {},
   "source": [
    "# Crowd Sources\n",
    "\n",
    "## Popcorn Hack 1\n",
    "The answer is B becuase it may be solvable but its not possible at that time.\n",
    "\n",
    "## Popcorn Hack 2\n",
    "The answer is A becuase it is proff of existence of an undecided problem.\n",
    "\n",
    "## Popcorn Hack 3\n",
    "D is correct bc the old three were already discussed as undecided problems."
   ]
  }
 ],
 "metadata": {
  "language_info": {
   "name": "python"
  }
 },
 "nbformat": 4,
 "nbformat_minor": 2
}
