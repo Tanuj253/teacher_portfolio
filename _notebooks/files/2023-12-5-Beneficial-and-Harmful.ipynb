{
 "cells": [
  {
   "cell_type": "markdown",
   "metadata": {},
   "source": [
    "# Benificial and Harmful Effects\n",
    "\n",
    "## Popcorn Hack 1\n",
    "accloramerters are used to calculate for orientation and the location of the device for the user. \n",
    "\n",
    "## Popcorn Hack 2\n",
    "Computing inovation can bring forth new jobs for society but they also retract jobs like in grocery stores replaced by self checkouts. the jobs brought for more advanced tech needs higher skill levels which is a big con."
   ]
  }
 ],
 "metadata": {
  "language_info": {
   "name": "python"
  }
 },
 "nbformat": 4,
 "nbformat_minor": 2
}
