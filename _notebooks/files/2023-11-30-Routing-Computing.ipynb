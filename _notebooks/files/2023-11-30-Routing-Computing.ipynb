{
 "cells": [
  {
   "cell_type": "markdown",
   "metadata": {},
   "source": [
    "# Routing and Computing\n",
    "\n",
    "## Popcorn Hack 1\n",
    "\n",
    "\n",
    "## Popcorn Hack 2\n",
    "\n",
    "\n",
    "## Popcorn Hack 3\n",
    "1. \n",
    "2. \n",
    "3."
   ]
  }
 ],
 "metadata": {
  "language_info": {
   "name": "python"
  }
 },
 "nbformat": 4,
 "nbformat_minor": 2
}
