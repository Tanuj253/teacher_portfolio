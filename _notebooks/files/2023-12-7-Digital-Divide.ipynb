{
 "cells": [
  {
   "cell_type": "markdown",
   "metadata": {},
   "source": [
    "# Digital Divide\n",
    "\n",
    "## Popcorn Hack 1\n",
    "Some people who are older or in an older population are found to be slower at adapting while a population too young may not be able to handle the responsibility of devices.\n",
    "\n",
    "## Popcorn Hack 2\n",
    "The person would be at a disadvantage as they are not used to some of the resources provided. Some examples are typing skills, ability to use a website like PLTW, or even familiarity to the campus and its schedule.\n",
    "\n",
    "## Popcorn Hack 3\n",
    "Pakistan is very heavily impacted with many political and social problems existing within it."
   ]
  }
 ],
 "metadata": {
  "language_info": {
   "name": "python"
  }
 },
 "nbformat": 4,
 "nbformat_minor": 2
}
