{
 "cells": [
  {
   "cell_type": "markdown",
   "metadata": {},
   "source": [
    "# Computing Bias\n",
    "\n",
    "## Popcorn Hack 1\n",
    "D. An automated Hiring system consistently favors canidates from specific educational institutions and backgrounds, resulting in the exclusion of qualified applicants from diverse backgrounds.\n",
    "\n",
    "this is an example of computing bias\n",
    "\n",
    "## Popcorn Hack 2\n",
    "this is unintantional bias which was cuased by a lack of diverse testing. Although this wasnt an intended outcome, it still happened due to data bias.\n",
    "\n",
    "## Popcorn Hack 3\n",
    "Tiktok takes your information about when you like to watch when and what types of things you like to watch. It tracks explicit and implicit data throughout its use."
   ]
  }
 ],
 "metadata": {
  "language_info": {
   "name": "python"
  }
 },
 "nbformat": 4,
 "nbformat_minor": 2
}
